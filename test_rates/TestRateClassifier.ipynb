{
 "cells": [
  {
   "cell_type": "markdown",
   "metadata": {
    "colab_type": "text",
    "id": "view-in-github"
   },
   "source": [
    "<a href=\"https://colab.research.google.com/github/LetsTrie/COVID-19-BD-Data/blob/master/test_rates/TestRateClassifier.ipynb\" target=\"_parent\"><img src=\"https://colab.research.google.com/assets/colab-badge.svg\" alt=\"Open In Colab\"/></a>"
   ]
  },
  {
   "cell_type": "code",
   "execution_count": 186,
   "metadata": {
    "id": "3g3M0v1Y4T5W"
   },
   "outputs": [],
   "source": [
    "import pandas as pd\n",
    "import numpy as np\n",
    "import matplotlib.pyplot as plt\n",
    "import scipy\n",
    "from scipy.signal import argrelextrema\n",
    "from sklearn.linear_model import Ridge\n",
    "from sklearn.neighbors.kde import KernelDensity\n",
    "from pandas import DataFrame\n",
    "from numpy import *\n",
    "import copy\n",
    "import json, io\n",
    "import sys\n",
    "import math\n",
    "import random\n",
    "from copy import deepcopy\n",
    "from sklearn.cluster import KMeans"
   ]
  },
  {
   "cell_type": "code",
   "execution_count": 187,
   "metadata": {
    "colab": {
     "base_uri": "https://localhost:8080/",
     "height": 204
    },
    "id": "Tv9hXQWa5GuD",
    "outputId": "821f8c34-ce85-4513-84ae-340c09fbdfb7"
   },
   "outputs": [],
   "source": [
    "main_data = pd.read_csv('modified_data.csv')\n",
    "main_data_frame = main_data.copy()\n",
    "main_data_frame = main_data_frame.values\n",
    "bd_data = main_data_frame[4]"
   ]
  },
  {
   "cell_type": "code",
   "execution_count": 188,
   "metadata": {},
   "outputs": [],
   "source": [
    "TEST_RATE_COLUMN = 2\n",
    "cluster_sizes = [0, 0, 0, 6, 5, 6, 5, 4]\n",
    "\n",
    "def is_null(v): \n",
    "    return not v or np.isnan(v)"
   ]
  },
  {
   "cell_type": "code",
   "execution_count": 189,
   "metadata": {
    "id": "BvKSbFGS9id4"
   },
   "outputs": [],
   "source": [
    "# Points for clustering\n",
    "def make_points_for_cluster(param_index): \n",
    "    dataset = []\n",
    "    for i in range(len(main_data_frame)):\n",
    "        if (not is_null(main_data_frame[i][param_index])): \n",
    "            dataset.append((main_data_frame[i][param_index], 0))\n",
    "    \n",
    "    return dataset\n",
    "\n",
    "def form_single_param_array(param_index):\n",
    "    dataset = []\n",
    "    for i in range(len(main_data_frame)):\n",
    "        if (not is_null(main_data_frame[i][param_index])): \n",
    "            dataset.append(main_data_frame[i][param_index])\n",
    "\n",
    "    return dataset\n",
    "\n",
    "# def test_cluster_size(param_index, a=3, b=20):\n",
    "#   data = make_points_for_cluster(param_index)\n",
    "#   y = []\n",
    "#   x = range(a,b)\n",
    "#   for i in range(a, b):\n",
    "#     model = KMeans(n_clusters=i)\n",
    "#     data = np.array(make_points_for_cluster(param_index))\n",
    "#     model.fit(data)\n",
    "#     y.append(model.inertia_)\n",
    "#   plt.plot(x, y)\n",
    "#   plt.show()\n",
    "    \n",
    "# test_cluster_size(6)\n",
    "\n",
    "def getSortedFrame(param_index): \n",
    "    sortedFrame = []\n",
    "    for i in range(len(main_data_frame)):\n",
    "        if(not is_null(main_data_frame[i][param_index])): \n",
    "            sortedFrame.append(main_data_frame[i])\n",
    "        \n",
    "    return sorted(sortedFrame, key=lambda x:x[param_index],reverse=True)\n",
    "\n",
    "def getSortedCluster(cluster): \n",
    "    sortedCluster = []\n",
    "    for value in cluster:\n",
    "        sortedCluster.append(value[0])\n",
    "    \n",
    "    return sorted(sortedCluster, reverse=True)\n",
    "\n",
    "def refine(cluster, param_index):\n",
    "    _cluster = []\n",
    "    sortedFrame = getSortedFrame(param_index)\n",
    "    sortedCluster = getSortedCluster(cluster)\n",
    "    \n",
    "    print(f'For Parameter {param_index}')\n",
    "    print(f'Value Starts with {cluster[len(cluster) - 1]} and ends with {cluster[0]}')\n",
    "    cluster_index = 0\n",
    "    for i in range(len(sortedFrame)):\n",
    "        if cluster_index < len(sortedCluster):\n",
    "            if sortedFrame[i][param_index] == sortedCluster[cluster_index]: \n",
    "                cluster_index += 1\n",
    "                if sortedFrame[i][1] == 'Bangladesh': \n",
    "                    continue;\n",
    "                _cluster.append(sortedFrame[i])\n",
    "    \n",
    "    return _cluster\n",
    "\n",
    "def form_dataset_kmeans(param_index, k): \n",
    "    param_array = make_points_for_cluster(param_index)\n",
    "    model = KMeans(n_clusters=k)\n",
    "    model.fit(param_array)\n",
    "    clusters = []\n",
    "\n",
    "    for i in range(len(model.labels_)):\n",
    "        clusters.append([])\n",
    "    for i in range(len(model.labels_)):\n",
    "        clusters[model.labels_[i]].append(param_array[i])\n",
    "    for cluster in clusters:\n",
    "        if (bd_data[param_index], 0) in cluster:\n",
    "            return refine(cluster, param_index)\n",
    "\n",
    "def weighted_mean(data, bd_data, param_index): \n",
    "    weights = []\n",
    "    avg = 0\n",
    "    \n",
    "    for i in range(len(data)):\n",
    "        weight = 1\n",
    "        if bd_data - data[i][param_index] != 0:\n",
    "            weight = 1 / abs(bd_data - data[i][param_index])\n",
    "        weights.append(weight)\n",
    "    \n",
    "    _max = np.max(weights)\n",
    "    norm_weights = list(map(lambda x: x/_max, weights)) \n",
    "    \n",
    "    for i in range(len(data)):\n",
    "        avg += (data[i][TEST_RATE_COLUMN]*norm_weights[i])\n",
    "    \n",
    "    return avg / np.sum(norm_weights)\n",
    "\n",
    "\n",
    "def correlation(set1, set2):\n",
    "    mean1, mean2 = np.mean(set1), np.mean(set2)\n",
    "    numer, denom = 0, 0\n",
    "\n",
    "    for i in range(len(set1)):\n",
    "        numer += (set1[i] - mean1) * (set2[i] - mean2)\n",
    "        denom += (set1[i] - mean1) * (set1[i] - mean1) * (set2[i] - mean2) * (set2[i] - mean2)\n",
    "\n",
    "    return abs(numer / math.sqrt(denom))"
   ]
  },
  {
   "cell_type": "code",
   "execution_count": 190,
   "metadata": {
    "id": "kdjkM-zyt7EM"
   },
   "outputs": [],
   "source": [
    "bd_avg_test_rate = bd_data[2]\n",
    "\n",
    "FROM_GDP_INDEX = 3\n",
    "UPTO_END_INDEX = 8\n",
    "\n",
    "def compute():\n",
    "    param_weight_sum = 0\n",
    "    test_rate = 0\n",
    "\n",
    "    for i in range(FROM_GDP_INDEX, UPTO_END_INDEX):\n",
    "        dataset = form_dataset_kmeans(i, cluster_sizes[i])\n",
    "        avg = weighted_mean(dataset, bd_data[i], i)\n",
    "        weight = correlation(form_single_param_array(i), form_single_param_array(TEST_RATE_COLUMN))\n",
    "        test_rate += (weight * avg)\n",
    "        param_weight_sum += weight\n",
    "\n",
    "        print('Cluster Size For Parameter', i, ':', len(dataset))\n",
    "        print('Avg Test Per Million For Parameter', i, ':', avg)\n",
    "        print('---------------------------\\n')\n",
    "\n",
    "    test_rate = test_rate / param_weight_sum\n",
    "    return (test_rate, test_rate / bd_avg_test_rate)"
   ]
  },
  {
   "cell_type": "code",
   "execution_count": 191,
   "metadata": {},
   "outputs": [
    {
     "name": "stdout",
     "output_type": "stream",
     "text": [
      "For Parameter 3\n",
      "Value Starts with (1899.775, 0) and ends with (3523.9840000000004, 0)\n",
      "Cluster Size For Parameter 3 : 34\n",
      "Avg Test Per Million For Parameter 3 : 106.01130294245947\n",
      "---------------------------\n",
      "\n",
      "For Parameter 4\n",
      "Value Starts with (97338583, 0) and ends with (164689383, 0)\n",
      "Cluster Size For Parameter 4 : 9\n",
      "Avg Test Per Million For Parameter 4 : 662.413633323683\n",
      "---------------------------\n",
      "\n",
      "For Parameter 5\n",
      "Value Starts with (1454.037, 0) and ends with (1265.036, 0)\n",
      "Cluster Size For Parameter 5 : 2\n",
      "Avg Test Per Million For Parameter 5 : 2574.9327601796786\n",
      "---------------------------\n",
      "\n",
      "For Parameter 6\n",
      "Value Starts with (1.7, 0) and ends with (0.8, 0)\n",
      "Cluster Size For Parameter 6 : 34\n",
      "Avg Test Per Million For Parameter 6 : 338.2304650862162\n",
      "---------------------------\n",
      "\n",
      "For Parameter 7\n",
      "Value Starts with (2.28715, 0) and ends with (3.41984, 0)\n",
      "Cluster Size For Parameter 7 : 41\n",
      "Avg Test Per Million For Parameter 7 : 231.80072884683761\n",
      "---------------------------\n",
      "\n",
      "(729.5897835401775, 11.595302748601663)\n",
      "BD average test per million: 62.92115\n"
     ]
    }
   ],
   "source": [
    "res = compute()\n",
    "print(res)\n",
    "print(f\"BD average test per million: {bd_avg_test_rate}\")"
   ]
  }
 ],
 "metadata": {
  "colab": {
   "authorship_tag": "ABX9TyOrGwPiyIvnv9vNdG/4q6NW",
   "include_colab_link": true,
   "name": "TestRateClassifier.ipynb",
   "provenance": []
  },
  "kernelspec": {
   "display_name": "Python 3",
   "language": "python",
   "name": "python3"
  },
  "language_info": {
   "codemirror_mode": {
    "name": "ipython",
    "version": 3
   },
   "file_extension": ".py",
   "mimetype": "text/x-python",
   "name": "python",
   "nbconvert_exporter": "python",
   "pygments_lexer": "ipython3",
   "version": "3.7.4"
  }
 },
 "nbformat": 4,
 "nbformat_minor": 1
}
