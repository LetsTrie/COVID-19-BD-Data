{
 "cells": [
  {
   "cell_type": "markdown",
   "metadata": {
    "colab_type": "text",
    "id": "view-in-github"
   },
   "source": [
    "<a href=\"https://colab.research.google.com/github/LetsTrie/COVID-19-BD-Data/blob/master/test_rates/TestRateClassifier.ipynb\" target=\"_parent\"><img src=\"https://colab.research.google.com/assets/colab-badge.svg\" alt=\"Open In Colab\"/></a>"
   ]
  },
  {
   "cell_type": "code",
   "execution_count": 59,
   "metadata": {
    "id": "3g3M0v1Y4T5W"
   },
   "outputs": [],
   "source": [
    "import pandas as pd\n",
    "import numpy as np\n",
    "import matplotlib.pyplot as plt\n",
    "import scipy\n",
    "from scipy.signal import argrelextrema\n",
    "from sklearn.linear_model import Ridge\n",
    "from sklearn.neighbors.kde import KernelDensity\n",
    "from pandas import DataFrame\n",
    "from numpy import *\n",
    "import copy\n",
    "import json, io\n",
    "import sys\n",
    "import math\n",
    "import random\n",
    "from copy import deepcopy\n",
    "from sklearn.cluster import KMeans"
   ]
  },
  {
   "cell_type": "code",
   "execution_count": 60,
   "metadata": {
    "colab": {
     "base_uri": "https://localhost:8080/",
     "height": 204
    },
    "id": "Tv9hXQWa5GuD",
    "outputId": "821f8c34-ce85-4513-84ae-340c09fbdfb7"
   },
   "outputs": [],
   "source": [
    "main_data = pd.read_csv('modified_data.csv')\n",
    "main_data_frame = main_data.copy()\n",
    "main_data_frame = main_data_frame.values\n",
    "bd_data = main_data_frame[4]"
   ]
  },
  {
   "cell_type": "code",
   "execution_count": 61,
   "metadata": {
    "id": "BvKSbFGS9id4"
   },
   "outputs": [
    {
     "data": {
      "image/png": "[encoded data removed]",
      "text/plain": [
       "<Figure size 432x288 with 1 Axes>"
      ]
     },
     "metadata": {
      "needs_background": "light"
     },
     "output_type": "display_data"
    }
   ],
   "source": [
    "def form_param_array(param_no):\n",
    "  dataset = []\n",
    "  for i in range(len(main_data_frame)):\n",
    "     dataset.append((main_data_frame[i][param_no], 0))\n",
    "  \n",
    "  return dataset\n",
    "\n",
    "def form_single_param_array(param_no):\n",
    "  dataset = []\n",
    "  for i in range(len(main_data_frame)):\n",
    "     dataset.append(main_data_frame[i][param_no])\n",
    "  \n",
    "  return dataset\n",
    "\n",
    "def form_dataset_2(param_no):\n",
    "  dataset = []\n",
    "  def comp(x):\n",
    "    return abs(x[param_no] - bd_data[param_no])\n",
    "    \n",
    "  country_data.sort(key=comp)\n",
    "\n",
    "  for i in range(1, size+1):\n",
    "    dataset.append([country_data[i][param_no], country_data[i][6]])\n",
    "\n",
    "  return dataset\n",
    "\n",
    "def test_cluster_size(param_no, a=3, b=20):\n",
    "  data = form_param_array(param_no)\n",
    "  y = []\n",
    "  x = range(a,b)\n",
    "  for i in range(a, b):\n",
    "    model = KMeans(n_clusters=i)\n",
    "    data = np.array(form_param_array(param_no))\n",
    "    model.fit(data)\n",
    "    y.append(model.inertia_)\n",
    "  plt.plot(x, y)\n",
    "  plt.show()\n",
    "    \n",
    "test_cluster_size(7)\n",
    "cluster_sizes = [0, 0, 0, 6, 5, 6, 5, 4]\n",
    "\n",
    "def refine(cluster, param_no):\n",
    "  _cluster = []\n",
    "  for value in cluster:\n",
    "    test_rate = next(x for x in main_data_frame if x[param_no] == value[0])[2]\n",
    "    _cluster.append([value[0], test_rate])\n",
    "  return _cluster\n",
    "\n",
    "def form_dataset_kmeans(param_no, k=5):\n",
    "  param_array = form_param_array(param_no)\n",
    "  model = KMeans(n_clusters=k)\n",
    "  model.fit(param_array)\n",
    "  clusters = []\n",
    "\n",
    "  for i in range(len(model.labels_)):\n",
    "    clusters.append([])\n",
    "  for i in range(len(model.labels_)):\n",
    "    clusters[model.labels_[i]].append(param_array[i])\n",
    "  for cluster in clusters:\n",
    "    if (bd_data[param_no], 0) in cluster:\n",
    "      return refine(cluster, param_no)\n",
    "\n",
    "def weighted_mean(data, bd_data):\n",
    "  weights = []\n",
    "  avg = 0\n",
    "\n",
    "  if len(data) == 0 or np.isnan(data).any():\n",
    "    return 0\n",
    "\n",
    "  for i in range(len(data)):\n",
    "    weight = 1\n",
    "    if bd_data - data[i][0] != 0:\n",
    "      weight = 1 / abs(bd_data - data[i][0])\n",
    "    weights.append(weight)\n",
    "  _max = np.max(weights)\n",
    "  norm_weights = list(map(lambda x: x/_max, weights)) \n",
    "  for i in range(len(data)):\n",
    "    avg += (data[i][1]*norm_weights[i])\n",
    "  avg = avg / np.sum(norm_weights)\n",
    "\n",
    "  return avg\n",
    "\n",
    "\n",
    "def find_cor(set1, set2):\n",
    "  mean1 = np.mean(set1)\n",
    "  mean2 = np.mean(set2)\n",
    "  numer = 0\n",
    "  denom = 0\n",
    "\n",
    "  for i in range(len(set1)):\n",
    "    numer += (set1[i] - mean1) * (set2[i] - mean2)\n",
    "    denom += pow(set1[i] - mean1, 2) * pow(set2[i] - mean2, 2)\n",
    "  denom = math.sqrt(denom)\n",
    "\n",
    "  return abs(numer / denom)"
   ]
  },
  {
   "cell_type": "code",
   "execution_count": 66,
   "metadata": {
    "id": "kdjkM-zyt7EM"
   },
   "outputs": [],
   "source": [
    "bd_avg_test_rate = bd_data[2]\n",
    "\n",
    "FROM_GDP_INDEX = 3\n",
    "UPTO_END_INDEX = 8\n",
    "TEST_RATE_COLUMN = 2\n",
    "\n",
    "def compute():\n",
    "  param_weight_sum = 0\n",
    "  test_rate = 0\n",
    "\n",
    "  for i in range(FROM_GDP_INDEX, UPTO_END_INDEX):\n",
    "    dataset = form_dataset_kmeans(i, cluster_sizes[i])\n",
    "    print(i, len(dataset))\n",
    "    avg = weighted_mean(dataset, bd_data[i])\n",
    "    print(f\"Test rate per parameter: {avg}\")\n",
    "    weight = find_cor(form_single_param_array(i), form_single_param_array(TEST_RATE_COLUMN))\n",
    "    test_rate += (weight * avg)\n",
    "    param_weight_sum += weight\n",
    "\n",
    "  test_rate = test_rate / param_weight_sum\n",
    "  return (test_rate, test_rate / bd_avg_test_rate)"
   ]
  },
  {
   "cell_type": "code",
   "execution_count": 67,
   "metadata": {},
   "outputs": [
    {
     "name": "stdout",
     "output_type": "stream",
     "text": [
      "3 26\n",
      "Test rate per parameter: 64.19396269504493\n",
      "4 7\n",
      "Test rate per parameter: 62.921256207094764\n",
      "5 2\n",
      "Test rate per parameter: 80.03716765253867\n",
      "6 35\n",
      "Test rate per parameter: 197.66993115103662\n",
      "7 32\n",
      "Test rate per parameter: 235.10145372502507\n",
      "(132.17773494853836, 2.1006884799234973)\n",
      "BD average test per million: 62.92115\n"
     ]
    }
   ],
   "source": [
    "res = compute()\n",
    "print(res)\n",
    "print(f\"BD average test per million: {bd_avg_test_rate}\")"
   ]
  },
  {
   "cell_type": "code",
   "execution_count": null,
   "metadata": {},
   "outputs": [],
   "source": []
  },
  {
   "cell_type": "code",
   "execution_count": null,
   "metadata": {},
   "outputs": [],
   "source": []
  }
 ],
 "metadata": {
  "colab": {
   "authorship_tag": "ABX9TyOrGwPiyIvnv9vNdG/4q6NW",
   "include_colab_link": true,
   "name": "TestRateClassifier.ipynb",
   "provenance": []
  },
  "kernelspec": {
   "display_name": "Python 3",
   "language": "python",
   "name": "python3"
  },
  "language_info": {
   "codemirror_mode": {
    "name": "ipython",
    "version": 3
   },
   "file_extension": ".py",
   "mimetype": "text/x-python",
   "name": "python",
   "nbconvert_exporter": "python",
   "pygments_lexer": "ipython3",
   "version": "3.7.4"
  }
 },
 "nbformat": 4,
 "nbformat_minor": 1
}
