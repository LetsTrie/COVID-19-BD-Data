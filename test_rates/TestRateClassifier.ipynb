{
  "nbformat": 4,
  "nbformat_minor": 0,
  "metadata": {
    "colab": {
      "name": "TestRateClassifier.ipynb",
      "provenance": [],
      "authorship_tag": "ABX9TyOrGwPiyIvnv9vNdG/4q6NW",
      "include_colab_link": true
    },
    "kernelspec": {
      "name": "python3",
      "display_name": "Python 3"
    }
  },
  "cells": [
    {
      "cell_type": "markdown",
      "metadata": {
        "id": "view-in-github",
        "colab_type": "text"
      },
      "source": [
        "<a href=\"https://colab.research.google.com/github/LetsTrie/COVID-19-BD-Data/blob/master/test_rates/TestRateClassifier.ipynb\" target=\"_parent\"><img src=\"https://colab.research.google.com/assets/colab-badge.svg\" alt=\"Open In Colab\"/></a>"
      ]
    },
    {
      "cell_type": "code",
      "metadata": {
        "id": "3g3M0v1Y4T5W"
      },
      "source": [
        "import pandas as pd\n",
        "import numpy as np\n",
        "import matplotlib.pyplot as plt\n",
        "import scipy\n",
        "from sklearn.linear_model import Ridge\n",
        "from pandas import DataFrame\n",
        "from numpy import *\n",
        "import copy\n",
        "import json, io\n",
        "import sys\n",
        "import math"
      ],
      "execution_count": 2,
      "outputs": []
    },
    {
      "cell_type": "code",
      "metadata": {
        "colab": {
          "base_uri": "https://localhost:8080/",
          "height": 204
        },
        "id": "Tv9hXQWa5GuD",
        "outputId": "821f8c34-ce85-4513-84ae-340c09fbdfb7"
      },
      "source": [
        "dataset = pd.read_csv('data.csv')\n",
        "df = dataset.copy()\n",
        "datasetArray = df.values\n",
        "dataset.head()"
      ],
      "execution_count": null,
      "outputs": [
        {
          "output_type": "execute_result",
          "data": {
            "text/html": [
              "<div>\n",
              "<style scoped>\n",
              "    .dataframe tbody tr th:only-of-type {\n",
              "        vertical-align: middle;\n",
              "    }\n",
              "\n",
              "    .dataframe tbody tr th {\n",
              "        vertical-align: top;\n",
              "    }\n",
              "\n",
              "    .dataframe thead th {\n",
              "        text-align: right;\n",
              "    }\n",
              "</style>\n",
              "<table border=\"1\" class=\"dataframe\">\n",
              "  <thead>\n",
              "    <tr style=\"text-align: right;\">\n",
              "      <th></th>\n",
              "      <th>Country</th>\n",
              "      <th>Population</th>\n",
              "      <th>Density</th>\n",
              "      <th>PCI</th>\n",
              "      <th>GDP</th>\n",
              "      <th>iDensity</th>\n",
              "      <th>BPH</th>\n",
              "      <th>Test Rate</th>\n",
              "    </tr>\n",
              "  </thead>\n",
              "  <tbody>\n",
              "    <tr>\n",
              "      <th>0</th>\n",
              "      <td>United Kingdom</td>\n",
              "      <td>67886004</td>\n",
              "      <td>272</td>\n",
              "      <td>39753</td>\n",
              "      <td>2698672317012</td>\n",
              "      <td>21998.393</td>\n",
              "      <td>2.54</td>\n",
              "      <td>3485</td>\n",
              "    </tr>\n",
              "    <tr>\n",
              "      <th>1</th>\n",
              "      <td>France</td>\n",
              "      <td>65273512</td>\n",
              "      <td>122</td>\n",
              "      <td>38605</td>\n",
              "      <td>2519883930760</td>\n",
              "      <td>32586.741</td>\n",
              "      <td>5.98</td>\n",
              "      <td>1568</td>\n",
              "    </tr>\n",
              "    <tr>\n",
              "      <th>2</th>\n",
              "      <td>Spain</td>\n",
              "      <td>46754783</td>\n",
              "      <td>93</td>\n",
              "      <td>34272</td>\n",
              "      <td>1602379922976</td>\n",
              "      <td>33295.631</td>\n",
              "      <td>2.97</td>\n",
              "      <td>2329</td>\n",
              "    </tr>\n",
              "    <tr>\n",
              "      <th>3</th>\n",
              "      <td>Germany</td>\n",
              "      <td>83783945</td>\n",
              "      <td>237</td>\n",
              "      <td>45229</td>\n",
              "      <td>3789464048405</td>\n",
              "      <td>10959.964</td>\n",
              "      <td>8.00</td>\n",
              "      <td>1885</td>\n",
              "    </tr>\n",
              "    <tr>\n",
              "      <th>4</th>\n",
              "      <td>Poland</td>\n",
              "      <td>37846605</td>\n",
              "      <td>124</td>\n",
              "      <td>27216</td>\n",
              "      <td>1030033201680</td>\n",
              "      <td>22286.675</td>\n",
              "      <td>6.62</td>\n",
              "      <td>935</td>\n",
              "    </tr>\n",
              "  </tbody>\n",
              "</table>\n",
              "</div>"
            ],
            "text/plain": [
              "          Country  Population  Density  ...   iDensity   BPH  Test Rate\n",
              "0  United Kingdom    67886004      272  ...  21998.393  2.54       3485\n",
              "1          France    65273512      122  ...  32586.741  5.98       1568\n",
              "2           Spain    46754783       93  ...  33295.631  2.97       2329\n",
              "3         Germany    83783945      237  ...  10959.964  8.00       1885\n",
              "4          Poland    37846605      124  ...  22286.675  6.62        935\n",
              "\n",
              "[5 rows x 8 columns]"
            ]
          },
          "metadata": {
            "tags": []
          },
          "execution_count": 7
        }
      ]
    },
    {
      "cell_type": "code",
      "metadata": {
        "id": "BvKSbFGS9id4"
      },
      "source": [
        "inputSet = []\n",
        "testRates = []\n",
        "\n",
        "for dataset in datasetArray:\n",
        "    x = []\n",
        "    for i in range(1, len(dataset)-1):\n",
        "        x.append(dataset[i])\n",
        "    inputSet.append(x)\n",
        "    testRates.append(dataset[len(dataset) - 1])"
      ],
      "execution_count": null,
      "outputs": []
    },
    {
      "cell_type": "code",
      "metadata": {
        "colab": {
          "base_uri": "https://localhost:8080/"
        },
        "id": "9wxmyAkG9mgw",
        "outputId": "05864f91-dbab-406e-9ce8-265a7e1f06b7"
      },
      "source": [
        "from sklearn.model_selection import train_test_split\n",
        "X_train, X_test, Y_train, Y_test = train_test_split(inputSet, testRates, test_size=0.2)\n",
        "print(len(X_train))"
      ],
      "execution_count": null,
      "outputs": [
        {
          "output_type": "stream",
          "text": [
            "12\n"
          ],
          "name": "stdout"
        }
      ]
    },
    {
      "cell_type": "code",
      "metadata": {
        "colab": {
          "base_uri": "https://localhost:8080/"
        },
        "id": "cytqzXS39o6B",
        "outputId": "57a7ccb9-1ac1-47e8-98c3-818b31bdc382"
      },
      "source": [
        "from sklearn.naive_bayes import GaussianNB\n",
        "model = GaussianNB()\n",
        "model.fit(inputSet, testRates)"
      ],
      "execution_count": null,
      "outputs": [
        {
          "output_type": "execute_result",
          "data": {
            "text/plain": [
              "GaussianNB(priors=None, var_smoothing=1e-09)"
            ]
          },
          "metadata": {
            "tags": []
          },
          "execution_count": 10
        }
      ]
    },
    {
      "cell_type": "code",
      "metadata": {
        "colab": {
          "base_uri": "https://localhost:8080/"
        },
        "id": "aWMjszjsAVx1",
        "outputId": "26016b2a-af10-44f4-f540-4e8c668e28e9"
      },
      "source": [
        "bd_data = [[165379406], [1265], [4570], [2703.763], [0.8]]\n",
        "print(model.predict(bd_data)[0])\n",
        "bd_test_rate = (model.predict(bd_data)[0] * 100) / 100000\n",
        "print(bd_test_rate)\n",
        "\n",
        "#required rate = 2.885 %\n",
        "#currrent rate = 1.518 %\n",
        "#tests per thousand = 0.106, % = 0.0106\n",
        "#positive per million = 11.215, % = 0.000112\n",
        "#current test positivity rate = 10.6%"
      ],
      "execution_count": null,
      "outputs": [
        {
          "output_type": "stream",
          "text": [
            "2885\n",
            "2.885\n"
          ],
          "name": "stdout"
        }
      ]
    },
    {
      "cell_type": "code",
      "metadata": {
        "id": "qUV6h9KCRAAC"
      },
      "source": [
        "main_data = pd.read_csv('owid-covid-data.csv')\n",
        "main_data = main_data.fillna(method='ffill')\n",
        "main_data = main_data.fillna(method='bfill')\n",
        "main_data_frame = main_data.copy()\n",
        "main_data_frame = main_data_frame.values"
      ],
      "execution_count": 36,
      "outputs": []
    },
    {
      "cell_type": "code",
      "metadata": {
        "id": "mYrKW6bxc1Pf"
      },
      "source": [
        "# 10, 27, 35, 36, 40, 47\n",
        "\n",
        "countries = set([])\n",
        "for i in range(len(main_data_frame)):\n",
        "  countries.add(main_data_frame[i][2])\n",
        "\n",
        "country_data = []\n",
        "\n",
        "def filter(country):\n",
        "  data = []\n",
        "  for i in range(len(main_data_frame)):\n",
        "    if main_data_frame[i][2] == country:\n",
        "      row = main_data_frame[i]\n",
        "      dropped_row = [row[35], row[36], row[40], row[35]*row[40], row[10], row[47], row[28]]\n",
        "      data.append(dropped_row)\n",
        "\n",
        "  return data[len(data)-1]\n",
        "\n",
        "for country in countries:\n",
        "  selected_countries = filter(country)\n",
        "  country_data.append(selected_countries)"
      ],
      "execution_count": 43,
      "outputs": []
    },
    {
      "cell_type": "code",
      "metadata": {
        "id": "IjxAA_KXeFwV"
      },
      "source": [
        "def form_param_array(param_no):\n",
        "  dataset = []\n",
        "  for i in range(len(country_data)):\n",
        "     dataset.append(country_data[i][param_no])\n",
        "  \n",
        "  return dataset\n",
        "\n",
        "def form_dataset(low, high, param_no):\n",
        "  dataset = []\n",
        "  for country in country_data:\n",
        "    if low <= country[param_no] <= high:\n",
        "      dataset.append([country[param_no], country[6]])\n",
        "  return dataset\n",
        "\n",
        "def mean_deviation(dataset):\n",
        "  mean = np.mean(dataset)\n",
        "  mean_sum = 0\n",
        "  for n in dataset:\n",
        "    mean_sum += abs(mean - n)\n",
        "\n",
        "  return mean_sum/len(dataset)"
      ],
      "execution_count": 44,
      "outputs": []
    },
    {
      "cell_type": "code",
      "metadata": {
        "id": "kdjkM-zyt7EM"
      },
      "source": [
        "def weighted_mean(data, bd_data):\n",
        "  weights = []\n",
        "  avg = 0\n",
        "  print(len(data))\n",
        "\n",
        "  if len(data) == 0 or np.isnan(data).any():\n",
        "    return 0\n",
        "\n",
        "  for i in range(len(data)):\n",
        "    weights.append(1 / abs(bd_data - data[i][0]))\n",
        "  _max = np.max(weights)\n",
        "  norm_weights = list(map(lambda x: x/_max, weights)) \n",
        "  for i in range(len(data)):\n",
        "    avg += data[i][1]*norm_weights[i]\n",
        "  avg = avg / np.sum(norm_weights)\n",
        "\n",
        "  return avg"
      ],
      "execution_count": 45,
      "outputs": []
    },
    {
      "cell_type": "code",
      "metadata": {
        "id": "sgA0OCtaulnd"
      },
      "source": [
        "bd_data = [165379406, 1265, 4570, 2740000000, 2703.763, 0.8]\n",
        "allowed_std = 1\n",
        "AVGs = []\n",
        "# print(np.mean(form_param_array(6)))\n",
        "for i in range(0, 6):\n",
        "  param_array = form_param_array(i)\n",
        "  mean_dev = mean_deviation(param_array)\n",
        "  low = abs(bd_data[i] - allowed_std*mean_dev)\n",
        "  high = bd_data[i] + allowed_std*mean_dev\n",
        "  dataset = form_dataset(low, high, i)\n",
        "  avg = weighted_mean(dataset, bd_data[i])\n",
        "  AVGs.append(avg)\n",
        "\n",
        "# print(AVGs)\n",
        "  "
      ],
      "execution_count": 50,
      "outputs": []
    },
    {
      "cell_type": "code",
      "metadata": {
        "id": "SiCMyQQ0vJUW"
      },
      "source": [
        ""
      ],
      "execution_count": 46,
      "outputs": []
    }
  ]
}