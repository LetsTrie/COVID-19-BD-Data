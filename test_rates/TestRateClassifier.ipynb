{
 "cells": [
  {
   "cell_type": "markdown",
   "metadata": {
    "colab_type": "text",
    "id": "view-in-github"
   },
   "source": [
    "<a href=\"https://colab.research.google.com/github/LetsTrie/COVID-19-BD-Data/blob/master/test_rates/TestRateClassifier.ipynb\" target=\"_parent\"><img src=\"https://colab.research.google.com/assets/colab-badge.svg\" alt=\"Open In Colab\"/></a>"
   ]
  },
  {
   "cell_type": "code",
   "execution_count": 4,
   "metadata": {
    "id": "3g3M0v1Y4T5W"
   },
   "outputs": [],
   "source": [
    "import pandas as pd\n",
    "import numpy as np\n",
    "import matplotlib.pyplot as plt\n",
    "import scipy\n",
    "from sklearn.linear_model import Ridge\n",
    "from pandas import DataFrame\n",
    "from numpy import *\n",
    "import copy\n",
    "import json, io\n",
    "import sys\n",
    "import math"
   ]
  },
  {
   "cell_type": "code",
   "execution_count": 24,
   "metadata": {
    "colab": {
     "base_uri": "https://localhost:8080/",
     "height": 204
    },
    "id": "Tv9hXQWa5GuD",
    "outputId": "821f8c34-ce85-4513-84ae-340c09fbdfb7"
   },
   "outputs": [
    {
     "name": "stdout",
     "output_type": "stream",
     "text": [
      "{'Afghanistan': 0, 'Albania': 0, 'Algeria': 0, 'Andorra': 0, 'Angola': 0, 'Antigua and Barbuda': 0, 'Argentina': 0, 'Armenia': 0, 'Australia': 1.521058201058202, 'Austria': 1.2614188679245288, 'Azerbaijan': 0, 'Bahamas': 0, 'Bahrain': 5.029130434782608, 'Bangladesh': 0.06268592057761738, 'Barbados': 0, 'Belarus': 0.9838823529411763, 'Belgium': 1.8813785714285711, 'Belize': 0, 'Benin': 0, 'Bhutan': 0, 'Bolivia': 0.12624793388429753, 'Bosnia and Herzegovina': 0, 'Botswana': 0, 'Brazil': 0, 'Brunei': 0, 'Bulgaria': 0.6881711229946527, 'Burkina Faso': 0, 'Burundi': 0, 'Cambodia': 0, 'Cameroon': 0, 'Canada': 1.183432330827068, 'Cape Verde': 0, 'Central African Republic': 0, 'Chad': 0, 'Chile': 1.1255836575875484, 'China': 0, 'Colombia': 0.37531884057971004, 'Comoros': 0, 'Congo': 0, 'Costa Rica': 0.2172146118721461, \"Cote d'Ivoire\": 0.035951327433628305, 'Croatia': 0.7424312977099241, 'Cuba': 0.40243023255813937, 'Cyprus': 2.8629802371541513, 'Czech Republic': 0.9864105960264905, 'Democratic Republic of Congo': 0.003775119617224883, 'Denmark': 4.382448160535117, 'Djibouti': 0, 'Dominica': 0, 'Dominican Republic': 0.23319499999999993, 'Ecuador': 0.13698015873015873, 'Egypt': 0, 'El Salvador': 0.3575071770334927, 'Equatorial Guinea': 0, 'Eritrea': 0, 'Estonia': 1.3657288732394368, 'Ethiopia': 0.057607142857142836, 'Fiji': 0.07296296296296297, 'Finland': 1.3119432624113467, 'France': 2.102078048780488, 'Gabon': 0, 'Gambia': 0, 'Georgia': 0, 'Germany': 0, 'Ghana': 0.07698461538461536, 'Greece': 0.8956171171171172, 'Grenada': 0, 'Guatemala': 0.11148561151079138, 'Guinea': 0, 'Guinea-Bissau': 0, 'Guyana': 0, 'Haiti': 0, 'Honduras': 0, 'Hong Kong': 4.596, 'Hungary': 0.7414781021897812, 'Iceland': 2.2637535211267603, 'India': 0.42397609561752997, 'Indonesia': 0.058013953488372114, 'International': 0, 'Iran': 0.30143790849673213, 'Iraq': 0.36905339805825216, 'Ireland': 1.5576183206106875, 'Israel': 2.3284749163879597, 'Italy': 1.3371363636363631, 'Jamaica': 0.18320689655172412, 'Japan': 0.08909900990099007, 'Jordan': 2.2885, 'Kazakhstan': 0.9486177606177602, 'Kenya': 0.06002285714285715, 'Kosovo': 0, 'Kuwait': 1.0351796116504854, 'Kyrgyzstan': 0, 'Laos': 0, 'Latvia': 1.2661837455830398, 'Lebanon': 0, 'Lesotho': 0, 'Liberia': 0, 'Libya': 0.23554545454545445, 'Liechtenstein': 0, 'Lithuania': 1.8372984496124023, 'Luxembourg': 8.122974910394266, 'Macedonia': 0.6598870967741935, 'Madagascar': 0.016076923076923082, 'Malawi': 0.01591443850267379, 'Malaysia': 0.32712550607287455, 'Maldives': 1.8333333333333328, 'Mali': 0, 'Malta': 3.31498161764706, 'Marshall Islands': 0, 'Mauritania': 0.0702878787878788, 'Mauritius': 0, 'Mexico': 0.05632812499999999, 'Moldova': 0, 'Monaco': 0, 'Mongolia': 0, 'Montenegro': 0, 'Morocco': 0.3895848375451264, 'Mozambique': 0.03029838709677418, 'Myanmar': 0.030805714285714277, 'Namibia': 0.3185578947368422, 'Nepal': 0.2211018181818183, 'Netherlands': 0, 'New Zealand': 0.966582417582417, 'Nicaragua': 0, 'Niger': 0, 'Nigeria': 0.015838461538461523, 'Norway': 1.5167491166077738, 'Oman': 0.6774482758620688, 'Pakistan': 0.09793207547169809, 'Palestine': 0.9771428571428576, 'Panama': 0.8227126865671641, 'Papua New Guinea': 0, 'Paraguay': 0.2394222222222222, 'Peru': 0.14223595505617972, 'Philippines': 0.20806504065040643, 'Poland': 0.7116666666666671, 'Portugal': 1.6482898550724638, 'Qatar': 1.4673946360153256, 'Romania': 0.7971880341880343, 'Russia': 1.9940494296577957, 'Rwanda': 0.20323788546255506, 'Saint Kitts and Nevis': 0, 'Saint Lucia': 0, 'Saint Vincent and the Grenadines': 0, 'Samoa': 0, 'San Marino': 0, 'Sao Tome and Principe': 0, 'Saudi Arabia': 1.0405304659498211, 'Senegal': 0.052507142857142836, 'Serbia': 0.9901063829787231, 'Seychelles': 0, 'Sierra Leone': 0, 'Singapore': 0, 'Slovakia': 0.7560218181818186, 'Slovenia': 0.9903383458646616, 'Solomon Islands': 0, 'Somalia': 0, 'South Africa': 0.3502775665399239, 'South Korea': 0.2014678571428571, 'South Sudan': 0.043100000000000006, 'Spain': 0, 'Sri Lanka': 0.1493344947735191, 'Sudan': 0, 'Suriname': 0, 'Swaziland': 0, 'Sweden': 1.9845999999999993, 'Switzerland': 1.0470351437699679, 'Syria': 0, 'Taiwan': 0.014563076923076892, 'Tajikistan': 0, 'Tanzania': 0, 'Thailand': 0.05631402439024389, 'Timor': 0, 'Togo': 0.06892962962962959, 'Trinidad and Tobago': 0.12047804878048778, 'Tunisia': 0.0867754010695187, 'Turkey': 0.8834056224899595, 'Uganda': 0.056024793388429764, 'Ukraine': 0.4510212765957447, 'United Arab Emirates': 6.25347349823322, 'United Kingdom': 2.2722661290322566, 'United States': 2.1569676258992816, 'Uruguay': 0.5514292682926829, 'Uzbekistan': 0, 'Vanuatu': 0, 'Vatican': 0, 'Venezuela': 0, 'Vietnam': 0.05906896551724138, 'World': 0, 'Yemen': 0, 'Zambia': 0.09877631578947375, 'Zimbabwe': 0.05413592233009708}\n"
     ]
    }
   ],
   "source": [
    "dataset = pd.read_csv('data.csv')\n",
    "df = dataset.copy()\n",
    "datasetArray = df.values\n",
    "\n",
    "# Dataset Column Number\n",
    "COUNTRY_INDEX = 2\n",
    "TEST_PER_THOUSAND_INDEX = 28\n",
    "\n",
    "TOTAL_COUNT = {}\n",
    "TOTAL_TEST_RATE = {}\n",
    "\n",
    "for dataset in datasetArray:\n",
    "    country_name = dataset[COUNTRY_INDEX]\n",
    "    test_per_thousand = dataset[TEST_PER_THOUSAND_INDEX]\n",
    "    if country_name not in TOTAL_COUNT: \n",
    "        TOTAL_COUNT[country_name] = 0\n",
    "        TOTAL_TEST_RATE[country_name] = 0\n",
    "\n",
    "    if not np.isnan(test_per_thousand): \n",
    "        TOTAL_COUNT[country_name] += 1\n",
    "        TOTAL_TEST_RATE[country_name] += test_per_thousand\n",
    "\n",
    "# Simple Average\n",
    "avg_test_rate = {}\n",
    "for key in TOTAL_TEST_RATE:\n",
    "    avg_test_rate[key] = 0\n",
    "    if TOTAL_COUNT[key] != 0:\n",
    "        avg_test_rate[key] = TOTAL_TEST_RATE[key] / TOTAL_COUNT[key]\n",
    "\n",
    "print(avg_test_rate)"
   ]
  },
  {
   "cell_type": "code",
   "execution_count": null,
   "metadata": {
    "id": "BvKSbFGS9id4"
   },
   "outputs": [],
   "source": [
    "inputSet = []\n",
    "testRates = []\n",
    "\n",
    "for dataset in datasetArray:\n",
    "    x = []\n",
    "    for i in range(1, len(dataset)-1):\n",
    "        x.append(dataset[i])\n",
    "    inputSet.append(x)\n",
    "    testRates.append(dataset[len(dataset) - 1])\n",
    "print(1)\n"
   ]
  },
  {
   "cell_type": "code",
   "execution_count": null,
   "metadata": {
    "colab": {
     "base_uri": "https://localhost:8080/"
    },
    "id": "9wxmyAkG9mgw",
    "outputId": "05864f91-dbab-406e-9ce8-265a7e1f06b7"
   },
   "outputs": [
    {
     "name": "stdout",
     "output_type": "stream",
     "text": [
      "12\n"
     ]
    }
   ],
   "source": [
    "from sklearn.model_selection import train_test_split\n",
    "X_train, X_test, Y_train, Y_test = train_test_split(inputSet, testRates, test_size=0.2)\n",
    "print(len(X_train))"
   ]
  },
  {
   "cell_type": "code",
   "execution_count": null,
   "metadata": {
    "colab": {
     "base_uri": "https://localhost:8080/"
    },
    "id": "cytqzXS39o6B",
    "outputId": "57a7ccb9-1ac1-47e8-98c3-818b31bdc382"
   },
   "outputs": [
    {
     "data": {
      "text/plain": [
       "GaussianNB(priors=None, var_smoothing=1e-09)"
      ]
     },
     "execution_count": 10,
     "metadata": {
      "tags": []
     },
     "output_type": "execute_result"
    }
   ],
   "source": [
    "from sklearn.naive_bayes import GaussianNB\n",
    "model = GaussianNB()\n",
    "model.fit(inputSet, testRates)"
   ]
  },
  {
   "cell_type": "code",
   "execution_count": null,
   "metadata": {
    "colab": {
     "base_uri": "https://localhost:8080/"
    },
    "id": "aWMjszjsAVx1",
    "outputId": "26016b2a-af10-44f4-f540-4e8c668e28e9"
   },
   "outputs": [
    {
     "name": "stdout",
     "output_type": "stream",
     "text": [
      "2885\n",
      "2.885\n"
     ]
    }
   ],
   "source": [
    "bd_data = [[165379406], [1265], [4570], [2703.763], [0.8]]\n",
    "print(model.predict(bd_data)[0])\n",
    "bd_test_rate = (model.predict(bd_data)[0] * 100) / 100000\n",
    "print(bd_test_rate)\n",
    "\n",
    "#required rate = 2.885 %\n",
    "#currrent rate = 1.518 %\n",
    "#tests per thousand = 0.106, % = 0.0106\n",
    "#positive per million = 11.215, % = 0.000112\n",
    "#current test positivity rate = 10.6%"
   ]
  },
  {
   "cell_type": "code",
   "execution_count": 36,
   "metadata": {
    "id": "qUV6h9KCRAAC"
   },
   "outputs": [],
   "source": [
    "main_data = pd.read_csv('owid-covid-data.csv')\n",
    "main_data = main_data.fillna(method='ffill')\n",
    "main_data = main_data.fillna(method='bfill')\n",
    "main_data_frame = main_data.copy()\n",
    "main_data_frame = main_data_frame.values"
   ]
  },
  {
   "cell_type": "code",
   "execution_count": 43,
   "metadata": {
    "id": "mYrKW6bxc1Pf"
   },
   "outputs": [],
   "source": [
    "# 10, 27, 35, 36, 40, 47\n",
    "\n",
    "countries = set([])\n",
    "for i in range(len(main_data_frame)):\n",
    "  countries.add(main_data_frame[i][2])\n",
    "\n",
    "country_data = []\n",
    "\n",
    "def filter(country):\n",
    "  data = []\n",
    "  for i in range(len(main_data_frame)):\n",
    "    if main_data_frame[i][2] == country:\n",
    "      row = main_data_frame[i]\n",
    "      dropped_row = [row[35], row[36], row[40], row[35]*row[40], row[10], row[47], row[28]]\n",
    "      data.append(dropped_row)\n",
    "\n",
    "  return data[len(data)-1]\n",
    "\n",
    "for country in countries:\n",
    "  selected_countries = filter(country)\n",
    "  country_data.append(selected_countries)"
   ]
  },
  {
   "cell_type": "code",
   "execution_count": 44,
   "metadata": {
    "id": "IjxAA_KXeFwV"
   },
   "outputs": [],
   "source": [
    "def form_param_array(param_no):\n",
    "  dataset = []\n",
    "  for i in range(len(country_data)):\n",
    "     dataset.append(country_data[i][param_no])\n",
    "  \n",
    "  return dataset\n",
    "\n",
    "def form_dataset(low, high, param_no):\n",
    "  dataset = []\n",
    "  for country in country_data:\n",
    "    if low <= country[param_no] <= high:\n",
    "      dataset.append([country[param_no], country[6]])\n",
    "  return dataset\n",
    "\n",
    "def mean_deviation(dataset):\n",
    "  mean = np.mean(dataset)\n",
    "  mean_sum = 0\n",
    "  for n in dataset:\n",
    "    mean_sum += abs(mean - n)\n",
    "\n",
    "  return mean_sum/len(dataset)"
   ]
  },
  {
   "cell_type": "code",
   "execution_count": 45,
   "metadata": {
    "id": "kdjkM-zyt7EM"
   },
   "outputs": [],
   "source": [
    "def weighted_mean(data, bd_data):\n",
    "  weights = []\n",
    "  avg = 0\n",
    "  print(len(data))\n",
    "\n",
    "  if len(data) == 0 or np.isnan(data).any():\n",
    "    return 0\n",
    "\n",
    "  for i in range(len(data)):\n",
    "    weights.append(1 / abs(bd_data - data[i][0]))\n",
    "  _max = np.max(weights)\n",
    "  norm_weights = list(map(lambda x: x/_max, weights)) \n",
    "  for i in range(len(data)):\n",
    "    avg += data[i][1]*norm_weights[i]\n",
    "  avg = avg / np.sum(norm_weights)\n",
    "\n",
    "  return avg"
   ]
  },
  {
   "cell_type": "code",
   "execution_count": 50,
   "metadata": {
    "id": "sgA0OCtaulnd"
   },
   "outputs": [],
   "source": [
    "bd_data = [165379406, 1265, 4570, 2740000000, 2703.763, 0.8]\n",
    "allowed_std = 1\n",
    "AVGs = []\n",
    "# print(np.mean(form_param_array(6)))\n",
    "for i in range(0, 6):\n",
    "  param_array = form_param_array(i)\n",
    "  mean_dev = mean_deviation(param_array)\n",
    "  low = abs(bd_data[i] - allowed_std*mean_dev)\n",
    "  high = bd_data[i] + allowed_std*mean_dev\n",
    "  dataset = form_dataset(low, high, i)\n",
    "  avg = weighted_mean(dataset, bd_data[i])\n",
    "  AVGs.append(avg)\n",
    "\n",
    "# print(AVGs)\n",
    "  "
   ]
  },
  {
   "cell_type": "code",
   "execution_count": 46,
   "metadata": {
    "id": "SiCMyQQ0vJUW"
   },
   "outputs": [],
   "source": []
  }
 ],
 "metadata": {
  "colab": {
   "authorship_tag": "ABX9TyOrGwPiyIvnv9vNdG/4q6NW",
   "include_colab_link": true,
   "name": "TestRateClassifier.ipynb",
   "provenance": []
  },
  "kernelspec": {
   "display_name": "Python 3",
   "language": "python",
   "name": "python3"
  },
  "language_info": {
   "codemirror_mode": {
    "name": "ipython",
    "version": 3
   },
   "file_extension": ".py",
   "mimetype": "text/x-python",
   "name": "python",
   "nbconvert_exporter": "python",
   "pygments_lexer": "ipython3",
   "version": "3.7.4"
  }
 },
 "nbformat": 4,
 "nbformat_minor": 1
}
