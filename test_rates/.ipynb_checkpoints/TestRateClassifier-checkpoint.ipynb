{
 "cells": [
  {
   "cell_type": "markdown",
   "metadata": {
    "colab_type": "text",
    "id": "view-in-github"
   },
   "source": [
    "<a href=\"https://colab.research.google.com/github/LetsTrie/COVID-19-BD-Data/blob/master/test_rates/TestRateClassifier.ipynb\" target=\"_parent\"><img src=\"https://colab.research.google.com/assets/colab-badge.svg\" alt=\"Open In Colab\"/></a>"
   ]
  },
  {
   "cell_type": "code",
   "execution_count": 4,
   "metadata": {
    "id": "3g3M0v1Y4T5W"
   },
   "outputs": [],
   "source": [
    "import pandas as pd\n",
    "import numpy as np\n",
    "import matplotlib.pyplot as plt\n",
    "import scipy\n",
    "from sklearn.linear_model import Ridge\n",
    "from pandas import DataFrame\n",
    "from numpy import *\n",
    "import copy\n",
    "import json, io\n",
    "import sys\n",
    "import math"
   ]
  },
  {
   "cell_type": "code",
   "execution_count": 22,
   "metadata": {
    "colab": {
     "base_uri": "https://localhost:8080/",
     "height": 204
    },
    "id": "Tv9hXQWa5GuD",
    "outputId": "821f8c34-ce85-4513-84ae-340c09fbdfb7"
   },
   "outputs": [
    {
     "name": "stdout",
     "output_type": "stream",
     "text": [
      "{'Afghanistan': 0, 'Albania': 0, 'Algeria': 0, 'Andorra': 0, 'Angola': 0, 'Antigua and Barbuda': 0, 'Argentina': 0, 'Armenia': 0, 'Australia': 287.4800000000002, 'Austria': 334.2760000000001, 'Azerbaijan': 0, 'Bahamas': 0, 'Bahrain': 1041.0299999999997, 'Bangladesh': 17.36400000000001, 'Barbados': 0, 'Belarus': 50.17799999999999, 'Belgium': 526.786, 'Belize': 0, 'Benin': 0, 'Bhutan': 0, 'Bolivia': 30.552000000000003, 'Bosnia and Herzegovina': 0, 'Botswana': 0, 'Brazil': 0, 'Brunei': 0, 'Bulgaria': 128.68800000000005, 'Burkina Faso': 0, 'Burundi': 0, 'Cambodia': 0, 'Cameroon': 0, 'Canada': 314.79300000000006, 'Cape Verde': 0, 'Central African Republic': 0, 'Chad': 0, 'Chile': 289.2749999999999, 'China': 0, 'Colombia': 103.58799999999998, 'Comoros': 0, 'Congo': 0, 'Costa Rica': 47.57, \"Cote d'Ivoire\": 8.124999999999996, 'Croatia': 194.5170000000001, 'Cuba': 103.82699999999996, 'Cyprus': 724.3340000000003, 'Czech Republic': 297.89600000000013, 'Democratic Republic of Congo': 0.7890000000000006, 'Denmark': 1310.3519999999999, 'Djibouti': 0, 'Dominica': 0, 'Dominican Republic': 46.63899999999999, 'Ecuador': 34.519, 'Egypt': 0, 'El Salvador': 74.71899999999998, 'Equatorial Guinea': 0, 'Eritrea': 0, 'Estonia': 387.8670000000001, 'Ethiopia': 14.516999999999994, 'Fiji': 15.76, 'Finland': 369.9679999999998, 'France': 430.92600000000004, 'Gabon': 0, 'Gambia': 0, 'Georgia': 0, 'Germany': 0, 'Ghana': 15.011999999999995, 'Greece': 198.82700000000003, 'Grenada': 0, 'Guatemala': 30.993000000000002, 'Guinea': 0, 'Guinea-Bissau': 0, 'Guyana': 0, 'Haiti': 0, 'Honduras': 0, 'Hong Kong': 4.596, 'Hungary': 203.16500000000005, 'Iceland': 642.906, 'India': 106.41800000000002, 'Indonesia': 12.473000000000004, 'International': 0, 'Iran': 46.12000000000002, 'Iraq': 76.02499999999995, 'Ireland': 408.0960000000001, 'Israel': 696.2139999999999, 'Italy': 382.4209999999999, 'Jamaica': 37.190999999999995, 'Japan': 26.99699999999999, 'Jordan': 73.232, 'Kazakhstan': 245.6919999999999, 'Kenya': 10.504000000000001, 'Kosovo': 0, 'Kuwait': 213.24699999999999, 'Kyrgyzstan': 0, 'Laos': 0, 'Latvia': 358.33000000000027, 'Lebanon': 0, 'Lesotho': 0, 'Liberia': 0, 'Libya': 51.81999999999998, 'Liechtenstein': 0, 'Lithuania': 474.0229999999998, 'Luxembourg': 2266.31, 'Macedonia': 163.652, 'Madagascar': 1.0450000000000004, 'Malawi': 2.9759999999999986, 'Malaysia': 80.80000000000001, 'Maldives': 434.4999999999999, 'Mali': 0, 'Malta': 901.6750000000004, 'Marshall Islands': 0, 'Mauritania': 4.639000000000001, 'Mauritius': 0, 'Mexico': 18.025, 'Moldova': 0, 'Monaco': 0, 'Mongolia': 0, 'Montenegro': 0, 'Morocco': 107.91500000000002, 'Mozambique': 7.513999999999997, 'Myanmar': 5.390999999999998, 'Namibia': 60.52600000000002, 'Nepal': 60.803000000000026, 'Netherlands': 0, 'New Zealand': 263.87699999999984, 'Nicaragua': 0, 'Niger': 0, 'Nigeria': 2.058999999999998, 'Norway': 429.23999999999995, 'Oman': 39.29199999999999, 'Pakistan': 25.951999999999995, 'Palestine': 95.76000000000005, 'Panama': 220.487, 'Papua New Guinea': 0, 'Paraguay': 64.64399999999999, 'Peru': 37.97699999999999, 'Philippines': 51.18399999999998, 'Poland': 155.8550000000001, 'Portugal': 454.928, 'Qatar': 382.99, 'Romania': 186.54200000000003, 'Russia': 524.4350000000003, 'Rwanda': 46.135, 'Saint Kitts and Nevis': 0, 'Saint Lucia': 0, 'Saint Vincent and the Grenadines': 0, 'Samoa': 0, 'San Marino': 0, 'Sao Tome and Principe': 0, 'Saudi Arabia': 290.3080000000001, 'Senegal': 14.701999999999995, 'Serbia': 279.2099999999999, 'Seychelles': 0, 'Sierra Leone': 0, 'Singapore': 0, 'Slovakia': 207.90600000000012, 'Slovenia': 263.43, 'Solomon Islands': 0, 'Somalia': 0, 'South Africa': 92.12299999999999, 'South Korea': 56.41099999999999, 'South Sudan': 1.2930000000000001, 'Spain': 0, 'Sri Lanka': 42.85899999999998, 'Sudan': 0, 'Suriname': 0, 'Swaziland': 0, 'Sweden': 277.8439999999999, 'Switzerland': 327.7219999999999, 'Syria': 0, 'Taiwan': 4.73299999999999, 'Tajikistan': 0, 'Tanzania': 0, 'Thailand': 18.470999999999997, 'Timor': 0, 'Togo': 18.61099999999999, 'Trinidad and Tobago': 24.697999999999993, 'Tunisia': 16.226999999999997, 'Turkey': 219.9679999999999, 'Uganda': 6.779000000000002, 'Ukraine': 84.792, 'United Arab Emirates': 1769.733000000001, 'United Kingdom': 563.5219999999996, 'United States': 599.6370000000003, 'Uruguay': 113.043, 'Uzbekistan': 0, 'Vanuatu': 0, 'Vatican': 0, 'Venezuela': 0, 'Vietnam': 3.426, 'World': 0, 'Yemen': 0, 'Zambia': 22.521000000000015, 'Zimbabwe': 11.151999999999997}\n",
      "{'Afghanistan': 0, 'Albania': 0, 'Algeria': 0, 'Andorra': 0, 'Angola': 0, 'Antigua and Barbuda': 0, 'Argentina': 0, 'Armenia': 0, 'Australia': 189, 'Austria': 265, 'Azerbaijan': 0, 'Bahamas': 0, 'Bahrain': 207, 'Bangladesh': 277, 'Barbados': 0, 'Belarus': 51, 'Belgium': 280, 'Belize': 0, 'Benin': 0, 'Bhutan': 0, 'Bolivia': 242, 'Bosnia and Herzegovina': 0, 'Botswana': 0, 'Brazil': 0, 'Brunei': 0, 'Bulgaria': 187, 'Burkina Faso': 0, 'Burundi': 0, 'Cambodia': 0, 'Cameroon': 0, 'Canada': 266, 'Cape Verde': 0, 'Central African Republic': 0, 'Chad': 0, 'Chile': 257, 'China': 0, 'Colombia': 276, 'Comoros': 0, 'Congo': 0, 'Costa Rica': 219, \"Cote d'Ivoire\": 226, 'Croatia': 262, 'Cuba': 258, 'Cyprus': 253, 'Czech Republic': 302, 'Democratic Republic of Congo': 209, 'Denmark': 299, 'Djibouti': 0, 'Dominica': 0, 'Dominican Republic': 200, 'Ecuador': 252, 'Egypt': 0, 'El Salvador': 209, 'Equatorial Guinea': 0, 'Eritrea': 0, 'Estonia': 284, 'Ethiopia': 252, 'Fiji': 216, 'Finland': 282, 'France': 205, 'Gabon': 0, 'Gambia': 0, 'Georgia': 0, 'Germany': 0, 'Ghana': 195, 'Greece': 222, 'Grenada': 0, 'Guatemala': 278, 'Guinea': 0, 'Guinea-Bissau': 0, 'Guyana': 0, 'Haiti': 0, 'Honduras': 0, 'Hong Kong': 1, 'Hungary': 274, 'Iceland': 284, 'India': 251, 'Indonesia': 215, 'International': 0, 'Iran': 153, 'Iraq': 206, 'Ireland': 262, 'Israel': 299, 'Italy': 286, 'Jamaica': 203, 'Japan': 303, 'Jordan': 32, 'Kazakhstan': 259, 'Kenya': 175, 'Kosovo': 0, 'Kuwait': 206, 'Kyrgyzstan': 0, 'Laos': 0, 'Latvia': 283, 'Lebanon': 0, 'Lesotho': 0, 'Liberia': 0, 'Libya': 220, 'Liechtenstein': 0, 'Lithuania': 258, 'Luxembourg': 279, 'Macedonia': 248, 'Madagascar': 65, 'Malawi': 187, 'Malaysia': 247, 'Maldives': 237, 'Mali': 0, 'Malta': 272, 'Marshall Islands': 0, 'Mauritania': 66, 'Mauritius': 0, 'Mexico': 320, 'Moldova': 0, 'Monaco': 0, 'Mongolia': 0, 'Montenegro': 0, 'Morocco': 277, 'Mozambique': 248, 'Myanmar': 175, 'Namibia': 190, 'Nepal': 275, 'Netherlands': 0, 'New Zealand': 273, 'Nicaragua': 0, 'Niger': 0, 'Nigeria': 130, 'Norway': 283, 'Oman': 58, 'Pakistan': 265, 'Palestine': 98, 'Panama': 268, 'Papua New Guinea': 0, 'Paraguay': 270, 'Peru': 267, 'Philippines': 246, 'Poland': 219, 'Portugal': 276, 'Qatar': 261, 'Romania': 234, 'Russia': 263, 'Rwanda': 227, 'Saint Kitts and Nevis': 0, 'Saint Lucia': 0, 'Saint Vincent and the Grenadines': 0, 'Samoa': 0, 'San Marino': 0, 'Sao Tome and Principe': 0, 'Saudi Arabia': 279, 'Senegal': 280, 'Serbia': 282, 'Seychelles': 0, 'Sierra Leone': 0, 'Singapore': 0, 'Slovakia': 275, 'Slovenia': 266, 'Solomon Islands': 0, 'Somalia': 0, 'South Africa': 263, 'South Korea': 280, 'South Sudan': 30, 'Spain': 0, 'Sri Lanka': 287, 'Sudan': 0, 'Suriname': 0, 'Swaziland': 0, 'Sweden': 140, 'Switzerland': 313, 'Syria': 0, 'Taiwan': 325, 'Tajikistan': 0, 'Tanzania': 0, 'Thailand': 328, 'Timor': 0, 'Togo': 270, 'Trinidad and Tobago': 205, 'Tunisia': 187, 'Turkey': 249, 'Uganda': 121, 'Ukraine': 188, 'United Arab Emirates': 283, 'United Kingdom': 248, 'United States': 278, 'Uruguay': 205, 'Uzbekistan': 0, 'Vanuatu': 0, 'Vatican': 0, 'Venezuela': 0, 'Vietnam': 58, 'World': 0, 'Yemen': 0, 'Zambia': 228, 'Zimbabwe': 206}\n"
     ]
    }
   ],
   "source": [
    "dataset = pd.read_csv('data.csv')\n",
    "df = dataset.copy()\n",
    "datasetArray = df.values\n",
    "\n",
    "# Dataset Column Number\n",
    "COUNTRY_INDEX = 2\n",
    "TEST_PER_THOUSAND_INDEX = 28\n",
    "\n",
    "# Getting the avarage test rate per thousand\n",
    "TOTAL_COUNT = {}\n",
    "TOTAL_TEST_RATE = {}\n",
    "\n",
    "for dataset in datasetArray:\n",
    "    country_name = dataset[COUNTRY_INDEX]\n",
    "    test_per_thousand = dataset[TEST_PER_THOUSAND_INDEX]\n",
    "    if country_name not in TOTAL_COUNT: \n",
    "        TOTAL_COUNT[country_name] = 0\n",
    "        TOTAL_TEST_RATE[country_name] = 0\n",
    "\n",
    "    if not np.isnan(test_per_thousand): \n",
    "        TOTAL_COUNT[country_name] += 1\n",
    "        TOTAL_TEST_RATE[country_name] += test_per_thousand\n",
    "    \n",
    "avg_test_rate = {}\n",
    "for key in TOTAL_TEST_RATE: \n",
    "    avg_test_rate[key] = TOTAL_TEST_RATE[key] / TOTAL_COUNT[key]\n",
    "\n",
    "print(avg_test_rate)"
   ]
  },
  {
   "cell_type": "code",
   "execution_count": null,
   "metadata": {
    "id": "BvKSbFGS9id4"
   },
   "outputs": [],
   "source": [
    "inputSet = []\n",
    "testRates = []\n",
    "\n",
    "for dataset in datasetArray:\n",
    "    x = []\n",
    "    for i in range(1, len(dataset)-1):\n",
    "        x.append(dataset[i])\n",
    "    inputSet.append(x)\n",
    "    testRates.append(dataset[len(dataset) - 1])\n",
    "print(1)\n"
   ]
  },
  {
   "cell_type": "code",
   "execution_count": null,
   "metadata": {
    "colab": {
     "base_uri": "https://localhost:8080/"
    },
    "id": "9wxmyAkG9mgw",
    "outputId": "05864f91-dbab-406e-9ce8-265a7e1f06b7"
   },
   "outputs": [
    {
     "name": "stdout",
     "output_type": "stream",
     "text": [
      "12\n"
     ]
    }
   ],
   "source": [
    "from sklearn.model_selection import train_test_split\n",
    "X_train, X_test, Y_train, Y_test = train_test_split(inputSet, testRates, test_size=0.2)\n",
    "print(len(X_train))"
   ]
  },
  {
   "cell_type": "code",
   "execution_count": null,
   "metadata": {
    "colab": {
     "base_uri": "https://localhost:8080/"
    },
    "id": "cytqzXS39o6B",
    "outputId": "57a7ccb9-1ac1-47e8-98c3-818b31bdc382"
   },
   "outputs": [
    {
     "data": {
      "text/plain": [
       "GaussianNB(priors=None, var_smoothing=1e-09)"
      ]
     },
     "execution_count": 10,
     "metadata": {
      "tags": []
     },
     "output_type": "execute_result"
    }
   ],
   "source": [
    "from sklearn.naive_bayes import GaussianNB\n",
    "model = GaussianNB()\n",
    "model.fit(inputSet, testRates)"
   ]
  },
  {
   "cell_type": "code",
   "execution_count": null,
   "metadata": {
    "colab": {
     "base_uri": "https://localhost:8080/"
    },
    "id": "aWMjszjsAVx1",
    "outputId": "26016b2a-af10-44f4-f540-4e8c668e28e9"
   },
   "outputs": [
    {
     "name": "stdout",
     "output_type": "stream",
     "text": [
      "2885\n",
      "2.885\n"
     ]
    }
   ],
   "source": [
    "bd_data = [[165379406], [1265], [4570], [2703.763], [0.8]]\n",
    "print(model.predict(bd_data)[0])\n",
    "bd_test_rate = (model.predict(bd_data)[0] * 100) / 100000\n",
    "print(bd_test_rate)\n",
    "\n",
    "#required rate = 2.885 %\n",
    "#currrent rate = 1.518 %\n",
    "#tests per thousand = 0.106, % = 0.0106\n",
    "#positive per million = 11.215, % = 0.000112\n",
    "#current test positivity rate = 10.6%"
   ]
  },
  {
   "cell_type": "code",
   "execution_count": 36,
   "metadata": {
    "id": "qUV6h9KCRAAC"
   },
   "outputs": [],
   "source": [
    "main_data = pd.read_csv('owid-covid-data.csv')\n",
    "main_data = main_data.fillna(method='ffill')\n",
    "main_data = main_data.fillna(method='bfill')\n",
    "main_data_frame = main_data.copy()\n",
    "main_data_frame = main_data_frame.values"
   ]
  },
  {
   "cell_type": "code",
   "execution_count": 43,
   "metadata": {
    "id": "mYrKW6bxc1Pf"
   },
   "outputs": [],
   "source": [
    "# 10, 27, 35, 36, 40, 47\n",
    "\n",
    "countries = set([])\n",
    "for i in range(len(main_data_frame)):\n",
    "  countries.add(main_data_frame[i][2])\n",
    "\n",
    "country_data = []\n",
    "\n",
    "def filter(country):\n",
    "  data = []\n",
    "  for i in range(len(main_data_frame)):\n",
    "    if main_data_frame[i][2] == country:\n",
    "      row = main_data_frame[i]\n",
    "      dropped_row = [row[35], row[36], row[40], row[35]*row[40], row[10], row[47], row[28]]\n",
    "      data.append(dropped_row)\n",
    "\n",
    "  return data[len(data)-1]\n",
    "\n",
    "for country in countries:\n",
    "  selected_countries = filter(country)\n",
    "  country_data.append(selected_countries)"
   ]
  },
  {
   "cell_type": "code",
   "execution_count": 44,
   "metadata": {
    "id": "IjxAA_KXeFwV"
   },
   "outputs": [],
   "source": [
    "def form_param_array(param_no):\n",
    "  dataset = []\n",
    "  for i in range(len(country_data)):\n",
    "     dataset.append(country_data[i][param_no])\n",
    "  \n",
    "  return dataset\n",
    "\n",
    "def form_dataset(low, high, param_no):\n",
    "  dataset = []\n",
    "  for country in country_data:\n",
    "    if low <= country[param_no] <= high:\n",
    "      dataset.append([country[param_no], country[6]])\n",
    "  return dataset\n",
    "\n",
    "def mean_deviation(dataset):\n",
    "  mean = np.mean(dataset)\n",
    "  mean_sum = 0\n",
    "  for n in dataset:\n",
    "    mean_sum += abs(mean - n)\n",
    "\n",
    "  return mean_sum/len(dataset)"
   ]
  },
  {
   "cell_type": "code",
   "execution_count": 45,
   "metadata": {
    "id": "kdjkM-zyt7EM"
   },
   "outputs": [],
   "source": [
    "def weighted_mean(data, bd_data):\n",
    "  weights = []\n",
    "  avg = 0\n",
    "  print(len(data))\n",
    "\n",
    "  if len(data) == 0 or np.isnan(data).any():\n",
    "    return 0\n",
    "\n",
    "  for i in range(len(data)):\n",
    "    weights.append(1 / abs(bd_data - data[i][0]))\n",
    "  _max = np.max(weights)\n",
    "  norm_weights = list(map(lambda x: x/_max, weights)) \n",
    "  for i in range(len(data)):\n",
    "    avg += data[i][1]*norm_weights[i]\n",
    "  avg = avg / np.sum(norm_weights)\n",
    "\n",
    "  return avg"
   ]
  },
  {
   "cell_type": "code",
   "execution_count": 50,
   "metadata": {
    "id": "sgA0OCtaulnd"
   },
   "outputs": [],
   "source": [
    "bd_data = [165379406, 1265, 4570, 2740000000, 2703.763, 0.8]\n",
    "allowed_std = 1\n",
    "AVGs = []\n",
    "# print(np.mean(form_param_array(6)))\n",
    "for i in range(0, 6):\n",
    "  param_array = form_param_array(i)\n",
    "  mean_dev = mean_deviation(param_array)\n",
    "  low = abs(bd_data[i] - allowed_std*mean_dev)\n",
    "  high = bd_data[i] + allowed_std*mean_dev\n",
    "  dataset = form_dataset(low, high, i)\n",
    "  avg = weighted_mean(dataset, bd_data[i])\n",
    "  AVGs.append(avg)\n",
    "\n",
    "# print(AVGs)\n",
    "  "
   ]
  },
  {
   "cell_type": "code",
   "execution_count": 46,
   "metadata": {
    "id": "SiCMyQQ0vJUW"
   },
   "outputs": [],
   "source": []
  }
 ],
 "metadata": {
  "colab": {
   "authorship_tag": "ABX9TyOrGwPiyIvnv9vNdG/4q6NW",
   "include_colab_link": true,
   "name": "TestRateClassifier.ipynb",
   "provenance": []
  },
  "kernelspec": {
   "display_name": "Python 3",
   "language": "python",
   "name": "python3"
  },
  "language_info": {
   "codemirror_mode": {
    "name": "ipython",
    "version": 3
   },
   "file_extension": ".py",
   "mimetype": "text/x-python",
   "name": "python",
   "nbconvert_exporter": "python",
   "pygments_lexer": "ipython3",
   "version": "3.7.4"
  }
 },
 "nbformat": 4,
 "nbformat_minor": 1
}
